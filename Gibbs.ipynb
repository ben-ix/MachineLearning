{
 "cells": [
  {
   "cell_type": "markdown",
   "metadata": {},
   "source": [
    "# Gibbs Sampler"
   ]
  },
  {
   "cell_type": "code",
   "execution_count": 1,
   "metadata": {
    "collapsed": true
   },
   "outputs": [],
   "source": [
    "%reset -f\n",
    "%matplotlib inline\n",
    "\n",
    "from enum import Enum\n",
    "import matplotlib as mpl\n",
    "import numpy as np\n",
    "from numpy import array as a\n",
    "import matplotlib.pyplot as plt\n",
    "import numpy.random as rng\n",
    "from scipy.special import expit as sigmoid\n",
    "np.set_printoptions(precision = 2, suppress = True)\n",
    "import time\n",
    "from functools import reduce\n",
    "import operator\n",
    "\n"
   ]
  },
  {
   "cell_type": "markdown",
   "metadata": {},
   "source": [
    "## Base parameter values for gibbs\n"
   ]
  },
  {
   "cell_type": "code",
   "execution_count": 2,
   "metadata": {
    "collapsed": true
   },
   "outputs": [],
   "source": [
    "wbase = 0.4\n",
    "wlo =  0.1\n",
    "whigh = 0.8"
   ]
  },
  {
   "cell_type": "markdown",
   "metadata": {},
   "source": [
    "## Network/Nodes\n",
    "The section below is how nodes in the network are represented, in this case \n",
    "the network supports only the logcal operators."
   ]
  },
  {
   "cell_type": "code",
   "execution_count": 3,
   "metadata": {
    "collapsed": true
   },
   "outputs": [],
   "source": [
    "\"\"\" The four types of allowable nodes, we are modeling a graph which supports the logical operators\"\"\"\n",
    "class NodeType(Enum):\n",
    "    MARGINAL = 1, # A node with no parents\n",
    "    NOT = 2,\n",
    "    OR = 3,\n",
    "    AND = 4\n",
    "\n",
    "\"\"\" Represents a node in the PGM \"\"\"\n",
    "class Node:\n",
    "    \n",
    "    def __init__(self, state, parents, func):\n",
    "        self.state = state\n",
    "        self.parents = parents\n",
    "        \n",
    "        # Different function based on node type\n",
    "        if func == NodeType.MARGINAL:\n",
    "            self.func = marginalProbability\n",
    "        elif func == NodeType.NOT:\n",
    "            self.func = notProbability\n",
    "        elif func == NodeType.OR:\n",
    "            self.func = orProbability\n",
    "        elif func == NodeType.AND:\n",
    "            self.func = andProbability\n",
    "        else:\n",
    "            print(\"Not a valid type\")\n",
    "        \n",
    "    def probability(self):\n",
    "        return self.func(self.parents)\n",
    "        \n",
    "\n",
    "''' The various node type proababilities based on the parents'''\n",
    "def marginalProbability(p):\n",
    "    return wbase\n",
    "\n",
    "def notProbability(p):\n",
    "    if p[0].state:\n",
    "        return wlo\n",
    "    else:\n",
    "        return whigh\n",
    "    \n",
    "def orProbability(p):\n",
    "    if p[0].state or p[1].state:\n",
    "        return whigh\n",
    "    else:\n",
    "        return wlo\n",
    "    \n",
    "def andProbability(p):\n",
    "    if p[0].state and p[1].state and p[2].state:\n",
    "        return whigh\n",
    "    else:\n",
    "        return wlo\n"
   ]
  },
  {
   "cell_type": "markdown",
   "metadata": {},
   "source": [
    "## Network\n",
    "Construct a sample network, in this case there are 10 nodes in the network. \n",
    "Nodes should be referenced by a unique name (in this case \"Xi\", where i is unique across all nodes)."
   ]
  },
  {
   "cell_type": "code",
   "execution_count": 4,
   "metadata": {
    "collapsed": true
   },
   "outputs": [],
   "source": [
    "PGM = {}\n",
    "PGM[\"X1\"] = Node(0, [], NodeType.MARGINAL)\n",
    "PGM[\"X2\"] = Node(0, [], NodeType.MARGINAL)\n",
    "PGM[\"X3\"] = Node(0, [], NodeType.MARGINAL)\n",
    "PGM[\"X4\"] = Node(0, [PGM[\"X1\"]], NodeType.NOT)\n",
    "PGM[\"X5\"] = Node(0, [], NodeType.MARGINAL)\n",
    "PGM[\"X6\"] = Node(0, [PGM[\"X1\"], PGM[\"X2\"]], NodeType.OR)\n",
    "PGM[\"X7\"] = Node(0, [], NodeType.MARGINAL)\n",
    "PGM[\"X8\"] = Node(0, [PGM[\"X3\"], PGM[\"X4\"], PGM[\"X5\"]], NodeType.AND)\n",
    "PGM[\"X9\"] = Node(0, [PGM[\"X5\"], PGM[\"X6\"], PGM[\"X7\"]], NodeType.AND)\n",
    "PGM[\"X10\"] = Node(0, [PGM[\"X8\"], PGM[\"X9\"]], NodeType.OR)"
   ]
  },
  {
   "cell_type": "markdown",
   "metadata": {},
   "source": [
    "## Gibbs Sampler\n",
    "\n",
    "The main code for gibbs sampling is below, the method takes a goal (i.e. a state of a particular node) and an optional set of observed nodes. "
   ]
  },
  {
   "cell_type": "code",
   "execution_count": 5,
   "metadata": {
    "collapsed": true
   },
   "outputs": [],
   "source": [
    "def gibbs(goal, observed):\n",
    "    \n",
    "    (goalNode, goalState) = goal\n",
    "    \n",
    "    count = 0\n",
    "    \n",
    "    iterations = 1000 * 2 ** len(PGM)\n",
    "    \n",
    "    # All the nodes in the PGM\n",
    "    keys = list(PGM)\n",
    "    \n",
    "    # Mark the nodes we have observed\n",
    "    for (key, val) in observed:\n",
    "        PGM[key].state = val\n",
    "        # Now we do not want to change these node states, so remove from the keyset\n",
    "        keys.remove(key)\n",
    "        \n",
    "    # The number of remaining keys\n",
    "    size = len(keys)\n",
    "\n",
    "    for _ in range(iterations):\n",
    "\n",
    "        # Choose random node to reset\n",
    "        index = keys[rng.randint(size)]\n",
    "        node = PGM[index]\n",
    "\n",
    "        #P(X with the random node = 1)\n",
    "        totalProbOne = totalProb(index, 1, PGM)\n",
    "        #P(X with the random node = 0)\n",
    "        totalProbZero = totalProb(index, 0, PGM)\n",
    "\n",
    "        #P(random node = 1 | X\\random node)\n",
    "        oneProb = totalProbOne / (totalProbOne + totalProbZero)\n",
    "        \n",
    "        # If the random number is below the probability of a one\n",
    "        # set it to one, Else set it to 0\n",
    "        node.state = 1 * (rng.random() <= oneProb)\n",
    "\n",
    "        if PGM[goalNode].state == goalState:\n",
    "            count +=1\n",
    "            \n",
    "    return count / iterations\n",
    "\n",
    "\n",
    "# Calculate the probability of P(Xi=1 | X\\i)\n",
    "def totalProb(i, state, xs):\n",
    "    originalState = xs[i].state\n",
    "    xs[i].state = state\n",
    "    probs = [ x.probability() if x.state else 1 - x.probability() for x in xs.values()]\n",
    "    product = reduce(operator.mul, probs, 1)\n",
    "    xs[i].state = originalState\n",
    "    return product"
   ]
  },
  {
   "cell_type": "markdown",
   "metadata": {},
   "source": [
    "## Examples\n",
    "\n",
    "Some testing examples to see how Gibbs estiamtes the probabilities"
   ]
  },
  {
   "cell_type": "code",
   "execution_count": 1,
   "metadata": {},
   "outputs": [
    {
     "ename": "NameError",
     "evalue": "name 'gibbs' is not defined",
     "output_type": "error",
     "traceback": [
      "\u001b[0;31m---------------------------------------------------------------------------\u001b[0m",
      "\u001b[0;31mNameError\u001b[0m                                 Traceback (most recent call last)",
      "\u001b[0;32m<ipython-input-1-0c52d84908bb>\u001b[0m in \u001b[0;36m<module>\u001b[0;34m()\u001b[0m\n\u001b[0;32m----> 1\u001b[0;31m \u001b[0mprob\u001b[0m \u001b[0;34m=\u001b[0m \u001b[0mgibbs\u001b[0m\u001b[0;34m(\u001b[0m\u001b[0;34m(\u001b[0m\u001b[0;34m\"X2\"\u001b[0m \u001b[0;34m,\u001b[0m\u001b[0;36m1\u001b[0m\u001b[0;34m)\u001b[0m\u001b[0;34m,\u001b[0m \u001b[0;34m[\u001b[0m\u001b[0;34m(\u001b[0m\u001b[0;34m\"X4\"\u001b[0m\u001b[0;34m,\u001b[0m \u001b[0;36m1\u001b[0m\u001b[0;34m)\u001b[0m\u001b[0;34m,\u001b[0m \u001b[0;34m(\u001b[0m\u001b[0;34m\"X6\"\u001b[0m\u001b[0;34m,\u001b[0m \u001b[0;36m1\u001b[0m\u001b[0;34m)\u001b[0m\u001b[0;34m]\u001b[0m\u001b[0;34m)\u001b[0m\u001b[0;34m\u001b[0m\u001b[0m\n\u001b[0m\u001b[1;32m      2\u001b[0m \u001b[0mprint\u001b[0m\u001b[0;34m(\u001b[0m\u001b[0mprob\u001b[0m\u001b[0;34m)\u001b[0m\u001b[0;34m\u001b[0m\u001b[0m\n\u001b[1;32m      3\u001b[0m \u001b[0;34m\u001b[0m\u001b[0m\n\u001b[1;32m      4\u001b[0m \u001b[0mprob\u001b[0m \u001b[0;34m=\u001b[0m \u001b[0mgibbs\u001b[0m\u001b[0;34m(\u001b[0m\u001b[0;34m(\u001b[0m\u001b[0;34m\"X2\"\u001b[0m \u001b[0;34m,\u001b[0m\u001b[0;36m1\u001b[0m\u001b[0;34m)\u001b[0m\u001b[0;34m,\u001b[0m \u001b[0;34m[\u001b[0m\u001b[0;34m(\u001b[0m\u001b[0;34m\"X6\"\u001b[0m\u001b[0;34m,\u001b[0m \u001b[0;36m1\u001b[0m\u001b[0;34m)\u001b[0m\u001b[0;34m]\u001b[0m\u001b[0;34m)\u001b[0m\u001b[0;34m\u001b[0m\u001b[0m\n\u001b[1;32m      5\u001b[0m \u001b[0mprint\u001b[0m\u001b[0;34m(\u001b[0m\u001b[0mprob\u001b[0m\u001b[0;34m)\u001b[0m\u001b[0;34m\u001b[0m\u001b[0m\n",
      "\u001b[0;31mNameError\u001b[0m: name 'gibbs' is not defined"
     ]
    }
   ],
   "source": [
    "prob = gibbs((\"X2\" ,1), [(\"X4\", 1), (\"X6\", 1)])\n",
    "print(prob)\n",
    "\n",
    "prob = gibbs((\"X2\" ,1), [(\"X6\", 1)])\n",
    "print(prob)"
   ]
  },
  {
   "cell_type": "code",
   "execution_count": null,
   "metadata": {
    "collapsed": true
   },
   "outputs": [],
   "source": []
  }
 ],
 "metadata": {
  "kernelspec": {
   "display_name": "Python 3",
   "language": "python",
   "name": "python3"
  },
  "language_info": {
   "codemirror_mode": {
    "name": "ipython",
    "version": 3
   },
   "file_extension": ".py",
   "mimetype": "text/x-python",
   "name": "python",
   "nbconvert_exporter": "python",
   "pygments_lexer": "ipython3",
   "version": "3.6.1"
  }
 },
 "nbformat": 4,
 "nbformat_minor": 1
}
