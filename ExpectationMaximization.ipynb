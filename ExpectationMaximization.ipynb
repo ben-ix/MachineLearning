{
 "cells": [
  {
   "cell_type": "code",
   "execution_count": 330,
   "metadata": {
    "collapsed": true
   },
   "outputs": [],
   "source": [
    "import numpy as np\n",
    "import matplotlib.pyplot as plt"
   ]
  },
  {
   "cell_type": "code",
   "execution_count": 331,
   "metadata": {
    "collapsed": true
   },
   "outputs": [],
   "source": [
    "num_samples = 1000\n",
    "num_dimensions = 2\n",
    "num_classes = 3"
   ]
  },
  {
   "cell_type": "code",
   "execution_count": 332,
   "metadata": {},
   "outputs": [],
   "source": [
    "def make_data(num_items):\n",
    "    data = []\n",
    "    \n",
    "    for _ in range(num_items):\n",
    "        item = np.random.exponential(1, num_dimensions)\n",
    "        \n",
    "        # Randomly make some values negative\n",
    "        for dim in range(num_dimensions):\n",
    "            if np.random.rand() < 0.5:\n",
    "                item[dim] = -1 * item[0]\n",
    "            \n",
    "        data.append(item)\n",
    "    \n",
    "    return np.asarray(data)\n",
    "\n",
    "def makeMeans():\n",
    "    # Subtract .5 so some are negative\n",
    "    means = make_data(num_classes) - .5\n",
    "    means = means * 20\n",
    "    return np.array(means)\n",
    "\n",
    "def makeClassProb():\n",
    "    class_prob = [np.random.random() for _ in range(num_classes)]\n",
    "    s = sum(class_prob)\n",
    "    class_prob = [ i/s for i in class_prob]\n",
    "    return class_prob\n",
    "    \n",
    "# Randomly generate the data from exponentials\n",
    "def generate():\n",
    "    # Generate random probabilities for each class\n",
    "    class_prob = makeClassProb()\n",
    "    \n",
    "    # Generate random means\n",
    "    means = makeMeans()\n",
    "\n",
    "    samples = []\n",
    "    \n",
    "    # Generate data for each class\n",
    "    for i in range(num_classes):\n",
    "        # + 1 for laplace smoothing\n",
    "        class_samples = make_data((int)(num_samples * class_prob[i]) + 1)\n",
    "        class_samples = class_samples + means[i]\n",
    "        class_samples = np.asarray(class_samples)\n",
    "        \n",
    "        samples.extend(class_samples)\n",
    "\n",
    "    samples = np.asarray(samples)\n",
    "    \n",
    "    # Shuffle the data so we mix up the various classes\n",
    "    np.random.shuffle(samples)\n",
    "    return samples, means, class_prob\n",
    "        \n",
    "samples, means, class_prob = generate()\n"
   ]
  },
  {
   "cell_type": "code",
   "execution_count": 333,
   "metadata": {
    "collapsed": true
   },
   "outputs": [],
   "source": [
    "def expectation(dataset, means, class_prob):    \n",
    "    # Every values associated class responsibilities\n",
    "    output = []\n",
    "    \n",
    "    for value in dataset:\n",
    "        numerators = []\n",
    "        \n",
    "        # For each class\n",
    "        for index in range(num_classes):\n",
    "        \n",
    "            mean = means[index]\n",
    "        \n",
    "            #P(k) \n",
    "            k_prob = class_prob[index]\n",
    "        \n",
    "            #P(x | mk)\n",
    "            conditional_prob = np.exp(-1 * np.linalg.norm(value - mean))\n",
    "\n",
    "            numerators.append(k_prob * conditional_prob)\n",
    "        \n",
    "        # Normalize\n",
    "        rnk = numerators / np.sum(numerators)\n",
    "        \n",
    "        output.append(rnk)\n",
    "        \n",
    "    return np.asarray(output)\n"
   ]
  },
  {
   "cell_type": "code",
   "execution_count": 334,
   "metadata": {
    "collapsed": true
   },
   "outputs": [],
   "source": [
    "# Calculate responsibility for each class\n",
    "def calculate_responsibilities(responsibilities):\n",
    "    allClassesResponsibility = []\n",
    "    \n",
    "    for index in range(num_classes):\n",
    "        # Sum for all xs for this class\n",
    "        classResponsibility = np.sum(responsibilities[:,index])\n",
    "        allClassesResponsibility.append(classResponsibility)\n",
    "            \n",
    "    # Sum for all values for all classes\n",
    "    totalResponsibility = np.sum(allClassesResponsibility)\n",
    "    \n",
    "    # pi K\n",
    "    return allClassesResponsibility / totalResponsibility\n",
    "\n",
    "\n",
    "# Calculate mean for each class\n",
    "def calculate_means(responsibilities, dataset, means):\n",
    "    allClassesMeans = []\n",
    "    \n",
    "    for index in range(num_classes):\n",
    "        numerators = []\n",
    "        denominators = []\n",
    "        \n",
    "        for n in range(len(dataset)):\n",
    "            value = dataset[n]\n",
    "            \n",
    "            # Euclidean distance between class mean and this value\n",
    "            distance = np.abs(means[index] - value)\n",
    "            \n",
    "            # Protect against divide by zero by adding small number if the value is zero\n",
    "            distance = np.where(distance == 0, 0.0001, distance)\n",
    "                     \n",
    "            # Xn / distance\n",
    "            two = value / distance\n",
    "            \n",
    "            classResponsibility = responsibilities[n, index]\n",
    "            \n",
    "            numerator = classResponsibility * two\n",
    "            denominator = (classResponsibility / distance )\n",
    "\n",
    "            numerators.append(numerator)\n",
    "            denominators.append(denominator)\n",
    "        \n",
    "        updatedMean = np.sum(numerators, axis=0) / np.sum(denominators, axis=0)\n",
    "        allClassesMeans.append(updatedMean)\n",
    "    \n",
    "    return np.asarray(allClassesMeans)\n",
    "\n",
    "#Update the parameters (pik, mk)\n",
    "def maximization(responsibilities, dataset, means):        \n",
    "    updatedMeans = calculate_means(responsibilities, dataset, means)\n",
    "    updatedResponsibilities = calculate_responsibilities(responsibilities)\n",
    "\n",
    "    return updatedMeans, updatedResponsibilities\n",
    "        \n",
    "    \n"
   ]
  },
  {
   "cell_type": "code",
   "execution_count": 335,
   "metadata": {},
   "outputs": [],
   "source": [
    "def em(samples):\n",
    "    # Start off with random class probs and means\n",
    "    updated_class_prob = makeClassProb()\n",
    "    updated_means = makeMeans()\n",
    "    \n",
    "    # Track how the means change (for graphing)\n",
    "    meanHistory = [updated_means]\n",
    "    \n",
    "    \n",
    "    # How much of a change to consider progress\n",
    "    threshold = 0.001\n",
    "    # Value doesnt matter for first iteration, just needs to be bigger than threshold so loop runs\n",
    "    change = threshold + 1 \n",
    "\n",
    "    # While the means are changing, keep running E and M steps\n",
    "    while change > threshold:\n",
    "        responsibilities = expectation(samples, updated_means, updated_class_prob)\n",
    "        updated_means, updated_class_prob = maximization(responsibilities, samples, updated_means)\n",
    "        # Difference between last means and current means\n",
    "        change = np.sum(np.abs(meanHistory[-1] - updated_means))\n",
    "        meanHistory.append(updated_means)\n",
    "    \n",
    "    # Return all the means, so they can be graphed\n",
    "    return np.asarray(meanHistory)"
   ]
  },
  {
   "cell_type": "code",
   "execution_count": 336,
   "metadata": {},
   "outputs": [],
   "source": [
    "meanHistory = em(samples)"
   ]
  },
  {
   "cell_type": "code",
   "execution_count": 337,
   "metadata": {
    "collapsed": true
   },
   "outputs": [],
   "source": [
    "def plot_data(samples, real_means, mean_history):  \n",
    "    plt.scatter(samples[:,0].flatten(), samples[:,1].flatten(), c=\"B\")\n",
    "    plt.scatter(means[:,0], means[:,1], c=\"R\")\n",
    "    for i in range(num_classes):\n",
    "        plt.plot(meanHistory[:,i][:,0], meanHistory[:,i][:,1], c=\"G\")\n",
    "    plt.show()"
   ]
  },
  {
   "cell_type": "code",
   "execution_count": 338,
   "metadata": {
    "scrolled": true
   },
   "outputs": [
    {
     "data": {
      "image/png": "[encoded data removed]",
      "text/plain": [
       "<matplotlib.figure.Figure at 0x1130826d8>"
      ]
     },
     "metadata": {},
     "output_type": "display_data"
    }
   ],
   "source": [
    "plot_data(samples, means, meanHistory)"
   ]
  },
  {
   "cell_type": "code",
   "execution_count": null,
   "metadata": {
    "collapsed": true
   },
   "outputs": [],
   "source": []
  },
  {
   "cell_type": "code",
   "execution_count": null,
   "metadata": {
    "collapsed": true
   },
   "outputs": [],
   "source": []
  }
 ],
 "metadata": {
  "kernelspec": {
   "display_name": "Python 3",
   "language": "python",
   "name": "python3"
  },
  "language_info": {
   "codemirror_mode": {
    "name": "ipython",
    "version": 3
   },
   "file_extension": ".py",
   "mimetype": "text/x-python",
   "name": "python",
   "nbconvert_exporter": "python",
   "pygments_lexer": "ipython3",
   "version": "3.6.1"
  }
 },
 "nbformat": 4,
 "nbformat_minor": 2
}
